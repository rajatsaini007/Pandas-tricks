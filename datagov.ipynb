{
 "cells": [
  {
   "cell_type": "code",
   "execution_count": null,
   "id": "725c9234",
   "metadata": {},
   "outputs": [],
   "source": [
    "import pandas as pd\n",
    "import numpy as np\n"
   ]
  },
  {
   "cell_type": "code",
   "execution_count": null,
   "id": "9fc2495d",
   "metadata": {},
   "outputs": [],
   "source": [
    "df=pd.read_csv(\"All_India_Index_April-2018.csv\")"
   ]
  },
  {
   "cell_type": "code",
   "execution_count": null,
   "id": "aaf9d6d7",
   "metadata": {},
   "outputs": [],
   "source": [
    "df"
   ]
  },
  {
   "cell_type": "code",
   "execution_count": null,
   "id": "426d4125",
   "metadata": {},
   "outputs": [],
   "source": [
    "df.head()"
   ]
  },
  {
   "cell_type": "code",
   "execution_count": null,
   "id": "91fc985e",
   "metadata": {},
   "outputs": [],
   "source": [
    "df.tail()"
   ]
  },
  {
   "cell_type": "code",
   "execution_count": null,
   "id": "2828a1fd",
   "metadata": {},
   "outputs": [],
   "source": [
    "df.info()"
   ]
  },
  {
   "cell_type": "code",
   "execution_count": null,
   "id": "1a3855d4",
   "metadata": {},
   "outputs": [],
   "source": [
    "df.columns\n"
   ]
  },
  {
   "cell_type": "code",
   "execution_count": null,
   "id": "7d788c66",
   "metadata": {
    "scrolled": true
   },
   "outputs": [],
   "source": [
    "df.describe()"
   ]
  },
  {
   "cell_type": "code",
   "execution_count": null,
   "id": "a1616382",
   "metadata": {},
   "outputs": [],
   "source": [
    "df.columns.values"
   ]
  },
  {
   "cell_type": "code",
   "execution_count": null,
   "id": "39c7f39e",
   "metadata": {},
   "outputs": [],
   "source": [
    "df[\"Housing\"].to_string()"
   ]
  },
  {
   "cell_type": "code",
   "execution_count": null,
   "id": "fcbce558",
   "metadata": {},
   "outputs": [],
   "source": [
    "np.array(df[\"Housing\"])"
   ]
  },
  {
   "cell_type": "code",
   "execution_count": null,
   "id": "58731b3b",
   "metadata": {},
   "outputs": [],
   "source": [
    "df"
   ]
  },
  {
   "cell_type": "code",
   "execution_count": null,
   "id": "1dc84e0c",
   "metadata": {},
   "outputs": [],
   "source": [
    "df.describe()"
   ]
  },
  {
   "cell_type": "code",
   "execution_count": null,
   "id": "893931d9",
   "metadata": {},
   "outputs": [],
   "source": [
    "df[\"Housing\"].fillna(105, inplace = True)"
   ]
  },
  {
   "cell_type": "code",
   "execution_count": null,
   "id": "1bf9b28e",
   "metadata": {},
   "outputs": [],
   "source": [
    "df"
   ]
  },
  {
   "cell_type": "code",
   "execution_count": null,
   "id": "d5f8e3a0",
   "metadata": {},
   "outputs": [],
   "source": [
    "df.describe()"
   ]
  },
  {
   "cell_type": "code",
   "execution_count": null,
   "id": "b58437da",
   "metadata": {},
   "outputs": [],
   "source": [
    "import matplotlib.pyplot as plt"
   ]
  },
  {
   "cell_type": "code",
   "execution_count": null,
   "id": "f602ae92",
   "metadata": {},
   "outputs": [],
   "source": [
    "df.plot(kind = 'scatter', x = 'Year', y = 'Vegetables')"
   ]
  },
  {
   "cell_type": "code",
   "execution_count": null,
   "id": "ee5f27b7",
   "metadata": {},
   "outputs": [],
   "source": [
    "df[\"Vegetables\"].plot(kind = 'hist')"
   ]
  },
  {
   "cell_type": "code",
   "execution_count": null,
   "id": "75a8cdc7",
   "metadata": {},
   "outputs": [],
   "source": [
    "df.plot( x = 'Year', y = 'Vegetables')"
   ]
  },
  {
   "cell_type": "code",
   "execution_count": null,
   "id": "301a0098",
   "metadata": {},
   "outputs": [],
   "source": [
    "import seaborn as sns"
   ]
  },
  {
   "cell_type": "code",
   "execution_count": null,
   "id": "49a11e71",
   "metadata": {},
   "outputs": [],
   "source": [
    "sns.barplot(x='Year', y='Vegetables', data=df);"
   ]
  },
  {
   "cell_type": "code",
   "execution_count": null,
   "id": "9a64fb29",
   "metadata": {},
   "outputs": [],
   "source": [
    "sns.barplot(x='Year', y='Housing', data=df);"
   ]
  },
  {
   "cell_type": "code",
   "execution_count": null,
   "id": "7d95b180",
   "metadata": {},
   "outputs": [],
   "source": [
    "sns.barplot(x='Year', y='Vegetables', hue='Sector', data=df);"
   ]
  },
  {
   "cell_type": "code",
   "execution_count": null,
   "id": "3cd5ef68",
   "metadata": {},
   "outputs": [],
   "source": [
    "sns.barplot(x='Year', y='Vegetables', hue='Month', data=df);"
   ]
  },
  {
   "cell_type": "code",
   "execution_count": null,
   "id": "5a3a2a77",
   "metadata": {},
   "outputs": [],
   "source": [
    "sns.pairplot(df, hue='Sector');"
   ]
  },
  {
   "cell_type": "code",
   "execution_count": null,
   "id": "da62d701",
   "metadata": {},
   "outputs": [],
   "source": [
    "sns.displot(data=df, x=\"Vegetables\",  kde=True)"
   ]
  },
  {
   "cell_type": "code",
   "execution_count": null,
   "id": "a8a78abe",
   "metadata": {},
   "outputs": [],
   "source": []
  }
 ],
 "metadata": {
  "kernelspec": {
   "display_name": "Python 3",
   "language": "python",
   "name": "python3"
  },
  "language_info": {
   "codemirror_mode": {
    "name": "ipython",
    "version": 3
   },
   "file_extension": ".py",
   "mimetype": "text/x-python",
   "name": "python",
   "nbconvert_exporter": "python",
   "pygments_lexer": "ipython3",
   "version": "3.8.8"
  }
 },
 "nbformat": 4,
 "nbformat_minor": 5
}
